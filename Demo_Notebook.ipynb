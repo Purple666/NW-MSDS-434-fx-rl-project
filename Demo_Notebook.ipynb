{
 "cells": [
  {
   "cell_type": "markdown",
   "metadata": {},
   "source": [
    "# MSSDS 434 FX_RL Learning Project"
   ]
  },
  {
   "cell_type": "markdown",
   "metadata": {},
   "source": [
    "### Project overview\n",
    "#### The application will follow this trajectory:\n",
    "- User uses front end (VueJS or React) to select trading pair and set certain model criteria.\n",
    "- Front end tells flask backend what the model parameters will be based on user selection.\n",
    "- Flask backend triggers a callout to a Financial Data API (Quandl, IEX, IBKR, Yahoo, Google)\n",
    "- Data is loaded into your classes to train a model based on the user inputs in step 1.\n",
    "- The model trains on each hour up to the penultimate hour (h - 1), when it is then tested on on the last hour of data. \n",
    "- Results are fed back into Flask and through to the front end to display results.\n",
    "- The user is given the option of productionalizing the model with the connected trading account using the current incoming data from whichever real-time financial data api has been chosen.\n",
    "- The results of the productionalized model are published in real time.\n",
    "\n",
    "#### Things that must be configurable via Front End\n",
    "- Currency Pair\n",
    "- Which side of the currency pair (right,left)\n",
    "- Amount of hist data to train on: (1d,5d,1mo,3mo,6mo,1y,2y,5y,10y,ytd,max)\n",
    "    - Window Size must infer this same value\n",
    "\n"
   ]
  },
  {
   "cell_type": "markdown",
   "metadata": {},
   "source": [
    "### Imports"
   ]
  },
  {
   "cell_type": "code",
   "execution_count": 90,
   "metadata": {},
   "outputs": [],
   "source": [
    "import gym\n",
    "import gym_anytrading\n",
    "import flask\n",
    "import yfinance as yf\n",
    "import pandas as pd\n",
    "import pandas_datareader as pdr\n",
    "import os\n",
    "import datetime"
   ]
  },
  {
   "cell_type": "code",
   "execution_count": 246,
   "metadata": {},
   "outputs": [],
   "source": [
    "#set alphavantage api-key\n",
    "os.environ['ALPHAVANTAGE_API_KEY'] = '95O0QW8Y4UM8U9WA'\n",
    "os.environ['WINDOW_SIZE'] = \"15\"\n",
    "os.environ['HISTORICAL_PERIOD'] = \"7d\"\n",
    "os.environ['HISTORICAL_INTERVAL'] = \"1m\""
   ]
  },
  {
   "cell_type": "code",
   "execution_count": 247,
   "metadata": {},
   "outputs": [],
   "source": [
    "curr_pairs = {\n",
    "\"EUR/USD\":\"EURUSD=X\",\n",
    "\"USD/JPY\":\"JPY=X\",\n",
    "\"GBP/USD\":\"GBPUSD=X\",\n",
    "\"AUD/USD\":\"AUDUSD=X\",\n",
    "\"NZD/USD\":\"NZDUSD=X\",\n",
    "\"EUR/JPY\":\"EURJPY=X\",\n",
    "\"GBP/JPY\":\"GBPJPY=X\",\n",
    "\"EUR/GBP\":\"EURGBP=X\",\n",
    "\"EUR/CAD\":\"EURCAD=X\",\n",
    "\"EUR/SEK\":\"EURSEK=X\",\n",
    "\"EUR/CHF\":\"EURCHF=X\",\n",
    "\"EUR/HUF\":\"EURHUF=X\",\n",
    "\"EUR/JPY\":\"EURJPY=X\",\n",
    "\"USD/CNY\":\"CNY=X\",\n",
    "\"USD/HKD\":\"HKD=X\",\n",
    "\"USD/SGD\":\"SGD=X\",\n",
    "\"USD/INR\":\"INR=X\",\n",
    "\"USD/MXN\":\"MXN=X\",\n",
    "\"USD/PHP\":\"PHP=X\",\n",
    "\"USD/IDR\":\"IDR=X\",\n",
    "\"USD/THB\":\"THB=X\",\n",
    "\"USD/MYR\":\"MYR=X\",\n",
    "\"USD/ZAR\":\"ZAR=X\",\n",
    "\"USD/RUB\":\"RUB=X\"\n",
    "}\n",
    "\n",
    "curr_list = list()\n",
    "for key in curr_pairs:\n",
    "    curr_list.append(key)\n",
    "    "
   ]
  },
  {
   "cell_type": "code",
   "execution_count": 248,
   "metadata": {},
   "outputs": [],
   "source": [
    "# AV\n",
    "# df = pdr.av.forex.AVForexReader(curr_list).read()\n",
    "# df.head()"
   ]
  },
  {
   "cell_type": "code",
   "execution_count": 249,
   "metadata": {},
   "outputs": [
    {
     "name": "stdout",
     "output_type": "stream",
     "text": [
      "df.shape (8631, 4)\n",
      "\n",
      "head\n",
      "                       Open    High     Low   Close\n",
      "Time                                               \n",
      "2020-04-09 00:00:00  1.0861  1.0861  1.0861  1.0861\n",
      "2020-04-09 00:01:00  1.0861  1.0861  1.0861  1.0861\n",
      "2020-04-09 00:02:00  1.0861  1.0861  1.0861  1.0861\n",
      "2020-04-09 00:03:00  1.0861  1.0861  1.0861  1.0861\n",
      "2020-04-09 00:04:00  1.0861  1.0861  1.0861  1.0861\n",
      "2020-04-09 00:05:00  1.0861  1.0861  1.0861  1.0861\n",
      "2020-04-09 00:06:00  1.0860  1.0860  1.0860  1.0860\n",
      "2020-04-09 00:07:00  1.0860  1.0860  1.0860  1.0860\n",
      "2020-04-09 00:08:00  1.0864  1.0864  1.0864  1.0864\n",
      "2020-04-09 00:09:00  1.0861  1.0861  1.0861  1.0861\n",
      "\n",
      "tail\n",
      "                       Open    High     Low   Close\n",
      "Time                                               \n",
      "2020-04-17 02:31:00  1.0881  1.0881  1.0881  1.0881\n",
      "2020-04-17 02:32:00  1.0879  1.0879  1.0879  1.0879\n",
      "2020-04-17 02:33:00  1.0879  1.0879  1.0879  1.0879\n",
      "2020-04-17 02:34:00  1.0879  1.0879  1.0879  1.0879\n",
      "2020-04-17 02:35:00  1.0880  1.0880  1.0880  1.0880\n",
      "2020-04-17 02:36:00  1.0880  1.0880  1.0880  1.0880\n",
      "2020-04-17 02:37:00  1.0879  1.0879  1.0879  1.0879\n",
      "2020-04-17 02:38:00  1.0879  1.0879  1.0879  1.0879\n",
      "2020-04-17 02:39:00  1.0880  1.0880  1.0880  1.0880\n",
      "2020-04-17 02:40:08  1.0880  1.0880  1.0880  1.0880\n",
      "\n",
      "df start Time: 2020-04-09 00:00:00\n",
      "\n",
      "df end Time: 2020-04-17 02:40:08\n"
     ]
    }
   ],
   "source": [
    "# yfinance:\n",
    "curr = yf.Ticker(\"EURUSD=X\")\n",
    "# This will be a configurable call in custom function\n",
    "df = curr.history(period=\"7d\", interval=\"1m\")\n",
    "df = df[[\"Open\",\"High\",\"Low\",\"Close\"]]\n",
    "df.index.rename('Time', inplace=True)\n",
    "df.reset_index(inplace=True)\n",
    "df['Time'] = df['Time'].dt.tz_localize(None)\n",
    "df.set_index('Time', inplace=True)\n",
    "print(\"df.shape\", df.shape)\n",
    "print(\"\\nhead\")\n",
    "print(df.head(10))\n",
    "print(\"\\ntail\")\n",
    "print(df.tail(10))\n",
    "print(\"\\ndf start Time: {}\".format(str(min(df.index))))\n",
    "print(\"\\ndf end Time: {}\".format(str(max(df.index))))"
   ]
  },
  {
   "cell_type": "code",
   "execution_count": 250,
   "metadata": {},
   "outputs": [
    {
     "name": "stdout",
     "output_type": "stream",
     "text": [
      "env information:\n",
      "> shape: (24, 2)\n",
      "> df.shape: (6225, 5)\n",
      "> prices.shape: (6225,)\n",
      "> signal_features.shape: (6225, 2)\n",
      "> max_possible_profit: 4.054414887146586\n"
     ]
    },
    {
     "data": {
      "text/html": [
       "<div>\n",
       "<style scoped>\n",
       "    .dataframe tbody tr th:only-of-type {\n",
       "        vertical-align: middle;\n",
       "    }\n",
       "\n",
       "    .dataframe tbody tr th {\n",
       "        vertical-align: top;\n",
       "    }\n",
       "\n",
       "    .dataframe thead th {\n",
       "        text-align: right;\n",
       "    }\n",
       "</style>\n",
       "<table border=\"1\" class=\"dataframe\">\n",
       "  <thead>\n",
       "    <tr style=\"text-align: right;\">\n",
       "      <th></th>\n",
       "      <th>Open</th>\n",
       "      <th>High</th>\n",
       "      <th>Low</th>\n",
       "      <th>Close</th>\n",
       "      <th>Volume</th>\n",
       "    </tr>\n",
       "    <tr>\n",
       "      <th>Time</th>\n",
       "      <th></th>\n",
       "      <th></th>\n",
       "      <th></th>\n",
       "      <th></th>\n",
       "      <th></th>\n",
       "    </tr>\n",
       "  </thead>\n",
       "  <tbody>\n",
       "    <tr>\n",
       "      <th>01.01.2017 22:00:00.000</th>\n",
       "      <td>1.05236</td>\n",
       "      <td>1.05253</td>\n",
       "      <td>1.05221</td>\n",
       "      <td>1.05227</td>\n",
       "      <td>143539993.3</td>\n",
       "    </tr>\n",
       "    <tr>\n",
       "      <th>01.01.2017 23:00:00.000</th>\n",
       "      <td>1.05227</td>\n",
       "      <td>1.05426</td>\n",
       "      <td>1.05226</td>\n",
       "      <td>1.05282</td>\n",
       "      <td>253139999.4</td>\n",
       "    </tr>\n",
       "    <tr>\n",
       "      <th>02.01.2017 00:00:00.000</th>\n",
       "      <td>1.05283</td>\n",
       "      <td>1.05283</td>\n",
       "      <td>1.05268</td>\n",
       "      <td>1.05281</td>\n",
       "      <td>131399993.9</td>\n",
       "    </tr>\n",
       "    <tr>\n",
       "      <th>02.01.2017 01:00:00.000</th>\n",
       "      <td>1.05282</td>\n",
       "      <td>1.05286</td>\n",
       "      <td>1.05225</td>\n",
       "      <td>1.05240</td>\n",
       "      <td>273940002.4</td>\n",
       "    </tr>\n",
       "    <tr>\n",
       "      <th>02.01.2017 02:00:00.000</th>\n",
       "      <td>1.05239</td>\n",
       "      <td>1.05240</td>\n",
       "      <td>1.05164</td>\n",
       "      <td>1.05220</td>\n",
       "      <td>258140014.6</td>\n",
       "    </tr>\n",
       "  </tbody>\n",
       "</table>\n",
       "</div>"
      ],
      "text/plain": [
       "                            Open     High      Low    Close       Volume\n",
       "Time                                                                    \n",
       "01.01.2017 22:00:00.000  1.05236  1.05253  1.05221  1.05227  143539993.3\n",
       "01.01.2017 23:00:00.000  1.05227  1.05426  1.05226  1.05282  253139999.4\n",
       "02.01.2017 00:00:00.000  1.05283  1.05283  1.05268  1.05281  131399993.9\n",
       "02.01.2017 01:00:00.000  1.05282  1.05286  1.05225  1.05240  273940002.4\n",
       "02.01.2017 02:00:00.000  1.05239  1.05240  1.05164  1.05220  258140014.6"
      ]
     },
     "execution_count": 250,
     "metadata": {},
     "output_type": "execute_result"
    }
   ],
   "source": [
    "env = gym.make('forex-v0')\n",
    "print(\"env information:\")\n",
    "print(\"> shape:\", env.shape)\n",
    "print(\"> df.shape:\", env.df.shape)\n",
    "print(\"> prices.shape:\", env.prices.shape)\n",
    "print(\"> signal_features.shape:\", env.signal_features.shape)\n",
    "print(\"> max_possible_profit:\", env.max_possible_profit())\n",
    "env.df.head()"
   ]
  },
  {
   "cell_type": "code",
   "execution_count": 251,
   "metadata": {},
   "outputs": [
    {
     "data": {
      "image/png": "[encoded data removed]",
      "text/plain": [
       "<Figure size 432x288 with 1 Axes>"
      ]
     },
     "metadata": {
      "needs_background": "light"
     },
     "output_type": "display_data"
    }
   ],
   "source": [
    "env.reset()\n",
    "env.render()"
   ]
  },
  {
   "cell_type": "code",
   "execution_count": 245,
   "metadata": {
    "scrolled": true
   },
   "outputs": [
    {
     "name": "stdout",
     "output_type": "stream",
     "text": [
      "custom env information:\n",
      "> shape: (10, 2)\n",
      "> df.shape: (8507, 4)\n",
      "> prices.shape: (8505,)\n",
      "> signal_features.shape: (8505, 2)\n",
      "> max_possible_profit: 0.9855878006823049\n"
     ]
    },
    {
     "data": {
      "text/html": [
       "<div>\n",
       "<style scoped>\n",
       "    .dataframe tbody tr th:only-of-type {\n",
       "        vertical-align: middle;\n",
       "    }\n",
       "\n",
       "    .dataframe tbody tr th {\n",
       "        vertical-align: top;\n",
       "    }\n",
       "\n",
       "    .dataframe thead th {\n",
       "        text-align: right;\n",
       "    }\n",
       "</style>\n",
       "<table border=\"1\" class=\"dataframe\">\n",
       "  <thead>\n",
       "    <tr style=\"text-align: right;\">\n",
       "      <th></th>\n",
       "      <th>Open</th>\n",
       "      <th>High</th>\n",
       "      <th>Low</th>\n",
       "      <th>Close</th>\n",
       "    </tr>\n",
       "    <tr>\n",
       "      <th>Time</th>\n",
       "      <th></th>\n",
       "      <th></th>\n",
       "      <th></th>\n",
       "      <th></th>\n",
       "    </tr>\n",
       "  </thead>\n",
       "  <tbody>\n",
       "    <tr>\n",
       "      <th>2020-04-09 00:00:00</th>\n",
       "      <td>1.0861</td>\n",
       "      <td>1.0861</td>\n",
       "      <td>1.0861</td>\n",
       "      <td>1.0861</td>\n",
       "    </tr>\n",
       "    <tr>\n",
       "      <th>2020-04-09 00:01:00</th>\n",
       "      <td>1.0861</td>\n",
       "      <td>1.0861</td>\n",
       "      <td>1.0861</td>\n",
       "      <td>1.0861</td>\n",
       "    </tr>\n",
       "    <tr>\n",
       "      <th>2020-04-09 00:02:00</th>\n",
       "      <td>1.0861</td>\n",
       "      <td>1.0861</td>\n",
       "      <td>1.0861</td>\n",
       "      <td>1.0861</td>\n",
       "    </tr>\n",
       "    <tr>\n",
       "      <th>2020-04-09 00:03:00</th>\n",
       "      <td>1.0861</td>\n",
       "      <td>1.0861</td>\n",
       "      <td>1.0861</td>\n",
       "      <td>1.0861</td>\n",
       "    </tr>\n",
       "    <tr>\n",
       "      <th>2020-04-09 00:04:00</th>\n",
       "      <td>1.0861</td>\n",
       "      <td>1.0861</td>\n",
       "      <td>1.0861</td>\n",
       "      <td>1.0861</td>\n",
       "    </tr>\n",
       "  </tbody>\n",
       "</table>\n",
       "</div>"
      ],
      "text/plain": [
       "                       Open    High     Low   Close\n",
       "Time                                               \n",
       "2020-04-09 00:00:00  1.0861  1.0861  1.0861  1.0861\n",
       "2020-04-09 00:01:00  1.0861  1.0861  1.0861  1.0861\n",
       "2020-04-09 00:02:00  1.0861  1.0861  1.0861  1.0861\n",
       "2020-04-09 00:03:00  1.0861  1.0861  1.0861  1.0861\n",
       "2020-04-09 00:04:00  1.0861  1.0861  1.0861  1.0861"
      ]
     },
     "execution_count": 245,
     "metadata": {},
     "output_type": "execute_result"
    }
   ],
   "source": [
    "custom_env = gym.make('forex-v0',\n",
    "             df = df,\n",
    "             window_size = 10,\n",
    "             frame_bound = (12, df.shape[0]),\n",
    "             unit_side = 'right'\n",
    "            )\n",
    "\n",
    "print(\"custom env information:\")\n",
    "print(\"> shape:\", custom_env.shape)\n",
    "print(\"> df.shape:\", custom_env.df.shape)\n",
    "print(\"> prices.shape:\", custom_env.prices.shape)\n",
    "print(\"> signal_features.shape:\", custom_env.signal_features.shape)\n",
    "print(\"> max_possible_profit:\", custom_env.max_possible_profit())\n",
    "custom_env.df.head()"
   ]
  },
  {
   "cell_type": "code",
   "execution_count": 241,
   "metadata": {},
   "outputs": [
    {
     "data": {
      "image/png": "[encoded data removed]",
      "text/plain": [
       "<Figure size 432x288 with 1 Axes>"
      ]
     },
     "metadata": {
      "needs_background": "light"
     },
     "output_type": "display_data"
    }
   ],
   "source": [
    "custom_env.reset()\n",
    "custom_env.render()"
   ]
  },
  {
   "cell_type": "code",
   "execution_count": 236,
   "metadata": {},
   "outputs": [
    {
     "name": "stdout",
     "output_type": "stream",
     "text": [
      "training_df.shape\n",
      " (4253, 4)\n",
      "training_df.head\n",
      "                        Open    High     Low   Close\n",
      "Time                                               \n",
      "2020-04-09 00:00:00  1.0861  1.0861  1.0861  1.0861\n",
      "2020-04-09 00:01:00  1.0861  1.0861  1.0861  1.0861\n",
      "2020-04-09 00:02:00  1.0861  1.0861  1.0861  1.0861\n",
      "2020-04-09 00:03:00  1.0861  1.0861  1.0861  1.0861\n",
      "2020-04-09 00:04:00  1.0861  1.0861  1.0861  1.0861\n",
      "training_df.tail\n",
      "                        Open    High     Low   Close\n",
      "Time                                               \n",
      "2020-04-14 00:50:00  1.0925  1.0925  1.0925  1.0925\n",
      "2020-04-14 00:51:00  1.0927  1.0927  1.0927  1.0927\n",
      "2020-04-14 00:52:00  1.0929  1.0929  1.0929  1.0929\n",
      "2020-04-14 00:53:00  1.0928  1.0928  1.0928  1.0928\n",
      "2020-04-14 00:54:00  1.0927  1.0927  1.0927  1.0927\n",
      "test_df.shape\n",
      " (4254, 4)\n",
      "test_df.head\n",
      "                        Open    High     Low   Close\n",
      "Time                                               \n",
      "2020-04-14 00:55:00  1.0925  1.0925  1.0925  1.0925\n",
      "2020-04-14 00:56:00  1.0925  1.0925  1.0925  1.0925\n",
      "2020-04-14 00:57:00  1.0925  1.0925  1.0925  1.0925\n",
      "2020-04-14 00:58:00  1.0925  1.0925  1.0925  1.0925\n",
      "2020-04-14 00:59:00  1.0924  1.0924  1.0924  1.0924\n",
      "test_df.tail\n",
      "                        Open    High     Low   Close\n",
      "Time                                               \n",
      "2020-04-17 00:29:00  1.0862  1.0862  1.0862  1.0862\n",
      "2020-04-17 00:30:00  1.0864  1.0864  1.0864  1.0864\n",
      "2020-04-17 00:31:00  1.0864  1.0864  1.0864  1.0864\n",
      "2020-04-17 00:32:00  1.0868  1.0868  1.0868  1.0868\n",
      "2020-04-17 00:37:05  1.0868  1.0868  1.0868  1.0868\n"
     ]
    }
   ],
   "source": [
    "training_df = df[:df.shape[0] // 2]\n",
    "print(\"training_df.shape\\n\", training_df.shape)\n",
    "print(\"training_df.head\\n\", training_df.head())\n",
    "print(\"training_df.tail\\n\", training_df.tail())\n",
    "test_df = df[df.shape[0] // 2:]\n",
    "print(\"test_df.shape\\n\", test_df.shape)\n",
    "print(\"test_df.head\\n\", test_df.head())\n",
    "print(\"test_df.tail\\n\", test_df.tail())"
   ]
  },
  {
   "cell_type": "code",
   "execution_count": 237,
   "metadata": {},
   "outputs": [
    {
     "name": "stderr",
     "output_type": "stream",
     "text": [
      "/Library/Frameworks/Python.framework/Versions/3.7/lib/python3.7/site-packages/gym/logger.py:30: UserWarning: \u001b[33mWARN: Box bound precision lowered by casting to float32\u001b[0m\n",
      "  warnings.warn(colorize('%s: %s'%('WARN', msg % args), 'yellow'))\n"
     ]
    }
   ],
   "source": [
    "training_df = df[:df.shape[0] // 2]\n",
    "test_df = df[df.shape[0] // 2:]\n",
    "training_env = gym.make('forex-v0', df=training_df, window_size = int(os.environ['WINDOW_SIZE']), frame_bound=(int(os.environ['WINDOW_SIZE']), training_df.shape[0]))\n",
    "test_env = gym.make('forex-v0', df=test_df, window_size = int(os.environ['WINDOW_SIZE']), frame_bound=(int(os.environ['WINDOW_SIZE']), test_df.shape[0])) "
   ]
  },
  {
   "cell_type": "code",
   "execution_count": 265,
   "metadata": {},
   "outputs": [
    {
     "name": "stderr",
     "output_type": "stream",
     "text": [
      "/Library/Frameworks/Python.framework/Versions/3.7/lib/python3.7/site-packages/gym/logger.py:30: UserWarning: \u001b[33mWARN: Box bound precision lowered by casting to float32\u001b[0m\n",
      "  warnings.warn(colorize('%s: %s'%('WARN', msg % args), 'yellow'))\n"
     ]
    },
    {
     "name": "stdout",
     "output_type": "stream",
     "text": [
      "info 0: {'total_reward': -0.9999999999998899, 'total_profit': 0.999632183908046, 'position': 1}\n",
      "info 60: {'total_reward': 7.999999999999119, 'total_profit': 0.9963254072476508, 'position': 1}\n",
      "info 120: {'total_reward': 14.999999999998348, 'total_profit': 0.9939427906773793, 'position': 0}\n",
      "info 180: {'total_reward': 7.999999999999119, 'total_profit': 0.9889245132339396, 'position': 0}\n",
      "info 240: {'total_reward': 1.9999999999997797, 'total_profit': 0.985201385528832, 'position': 0}\n",
      "info 300: {'total_reward': 9.999999999998899, 'total_profit': 0.9825750076093953, 'position': 1}\n",
      "info 360: {'total_reward': 12.999999999998568, 'total_profit': 0.9794114354026555, 'position': 0}\n",
      "info 420: {'total_reward': 18.999999999997907, 'total_profit': 0.9750960207308518, 'position': 0}\n",
      "info 480: {'total_reward': -9.00000000000345, 'total_profit': 0.9702653697864891, 'position': 0}\n",
      "info 540: {'total_reward': -28.000000000003578, 'total_profit': 0.964662510879957, 'position': 0}\n",
      "info 600: {'total_reward': -54.00000000000295, 'total_profit': 0.9608557276713903, 'position': 1}\n",
      "info 660: {'total_reward': -51.00000000000328, 'total_profit': 0.9581165920028527, 'position': 0}\n",
      "info 720: {'total_reward': -48.00000000000803, 'total_profit': 0.9528476938983684, 'position': 0}\n",
      "info 780: {'total_reward': -78.00000000000693, 'total_profit': 0.9470204357986042, 'position': 1}\n",
      "info 840: {'total_reward': -58.00000000000469, 'total_profit': 0.9439914639748225, 'position': 1}\n",
      "info 900: {'total_reward': -74.00000000000739, 'total_profit': 0.9397710001208174, 'position': 0}\n",
      "info 960: {'total_reward': -65.00000000001059, 'total_profit': 0.9357393379403379, 'position': 1}\n",
      "info 1020: {'total_reward': -43.00000000000858, 'total_profit': 0.9323252386193994, 'position': 1}\n",
      "info 1080: {'total_reward': -27.00000000000812, 'total_profit': 0.9293454767400757, 'position': 1}\n",
      "info 1140: {'total_reward': -47.000000000010346, 'total_profit': 0.9248509455826678, 'position': 1}\n",
      "info 1200: {'total_reward': -15.000000000004995, 'total_profit': 0.9220631546428864, 'position': 1}\n",
      "info 1260: {'total_reward': -30.000000000007784, 'total_profit': 0.916931591384809, 'position': 1}\n",
      "info 1320: {'total_reward': -68.99999999999906, 'total_profit': 0.9114109694947795, 'position': 0}\n",
      "info 1380: {'total_reward': -68.99999999999903, 'total_profit': 0.9082473703711292, 'position': 0}\n",
      "info 1440: {'total_reward': -76.99999999999812, 'total_profit': 0.9038515834141432, 'position': 1}\n",
      "info 1500: {'total_reward': -63.99999999999959, 'total_profit': 0.9009612502357305, 'position': 1}\n",
      "info 1560: {'total_reward': -54.000000000002935, 'total_profit': 0.8969325986222934, 'position': 1}\n",
      "info 1620: {'total_reward': -64.0000000000018, 'total_profit': 0.8930882693453607, 'position': 1}\n",
      "info 1680: {'total_reward': -45.00000000000614, 'total_profit': 0.8910494270535795, 'position': 0}\n",
      "info 1740: {'total_reward': -61.00000000000661, 'total_profit': 0.8873105234999887, 'position': 0}\n",
      "info 1800: {'total_reward': -94.00000000000743, 'total_profit': 0.8823809000725389, 'position': 1}\n",
      "info 1860: {'total_reward': -90.00000000000789, 'total_profit': 0.8789220390435459, 'position': 1}\n",
      "info 1920: {'total_reward': -83.00000000000867, 'total_profit': 0.8755559952457455, 'position': 1}\n",
      "info 1980: {'total_reward': -50.00000000001231, 'total_profit': 0.873080047437375, 'position': 1}\n",
      "info 2040: {'total_reward': -77.00000000000932, 'total_profit': 0.8686239501799229, 'position': 0}\n",
      "info 2100: {'total_reward': -55.00000000001173, 'total_profit': 0.866562160243342, 'position': 1}\n",
      "info 2160: {'total_reward': -43.00000000001307, 'total_profit': 0.8634010567148613, 'position': 0}\n",
      "info 2220: {'total_reward': -43.000000000013074, 'total_profit': 0.8599382705668012, 'position': 1}\n",
      "info 2280: {'total_reward': -38.00000000001363, 'total_profit': 0.8569591318678585, 'position': 1}\n",
      "info 2340: {'total_reward': -39.000000000013515, 'total_profit': 0.8539125021886731, 'position': 1}\n",
      "info 2400: {'total_reward': -56.00000000001164, 'total_profit': 0.8497892718120321, 'position': 1}\n",
      "info 2460: {'total_reward': -77.0000000000093, 'total_profit': 0.8457592778380255, 'position': 0}\n",
      "info 2520: {'total_reward': -99.00000000001799, 'total_profit': 0.8415166682246501, 'position': 0}\n",
      "info 2580: {'total_reward': -81.00000000002214, 'total_profit': 0.8383685222113896, 'position': 0}\n",
      "info 2640: {'total_reward': -126.00000000002163, 'total_profit': 0.8327924416780349, 'position': 1}\n",
      "info 2700: {'total_reward': -135.00000000002728, 'total_profit': 0.829676330033701, 'position': 0}\n",
      "info 2760: {'total_reward': -149.00000000003462, 'total_profit': 0.8253629223074638, 'position': 0}\n",
      "info 2820: {'total_reward': -160.0000000000378, 'total_profit': 0.8215220878015763, 'position': 0}\n",
      "info 2880: {'total_reward': -169.00000000003678, 'total_profit': 0.8176228846586007, 'position': 1}\n",
      "info 2940: {'total_reward': -140.00000000002893, 'total_profit': 0.8148606272182273, 'position': 1}\n",
      "info 3000: {'total_reward': -145.0000000000284, 'total_profit': 0.8115894425019957, 'position': 0}\n",
      "info 3060: {'total_reward': -142.0000000000265, 'total_profit': 0.8084793407306625, 'position': 0}\n",
      "info 3120: {'total_reward': -162.00000000003314, 'total_profit': 0.8037671236440959, 'position': 1}\n",
      "info 3180: {'total_reward': -171.00000000003433, 'total_profit': 0.8004005900444251, 'position': 1}\n",
      "info 3240: {'total_reward': -168.00000000003243, 'total_profit': 0.7976244209473339, 'position': 1}\n",
      "info 3300: {'total_reward': -152.00000000003638, 'total_profit': 0.794930590561025, 'position': 0}\n",
      "info 3360: {'total_reward': -158.00000000004678, 'total_profit': 0.7923129781823469, 'position': 1}\n",
      "info 3420: {'total_reward': -159.00000000005116, 'total_profit': 0.78876549617128, 'position': 1}\n",
      "info 3480: {'total_reward': -152.0000000000519, 'total_profit': 0.7860270063873724, 'position': 1}\n",
      "info 3540: {'total_reward': -136.000000000056, 'total_profit': 0.7837979166287519, 'position': 1}\n",
      "info 3600: {'total_reward': -149.00000000006344, 'total_profit': 0.7805728999833329, 'position': 1}\n",
      "info 3660: {'total_reward': -137.00000000006477, 'total_profit': 0.7776438292671323, 'position': 0}\n",
      "info 3720: {'total_reward': -135.00000000006497, 'total_profit': 0.7740177772653603, 'position': 0}\n",
      "info 3780: {'total_reward': -109.0000000000701, 'total_profit': 0.7709038236654651, 'position': 0}\n",
      "info 3840: {'total_reward': -101.000000000071, 'total_profit': 0.767663964628854, 'position': 0}\n",
      "info 3900: {'total_reward': -101.00000000007546, 'total_profit': 0.7641563556737487, 'position': 0}\n",
      "info 3960: {'total_reward': -97.000000000087, 'total_profit': 0.7608726746988359, 'position': 0}\n",
      "info 4020: {'total_reward': -89.00000000007901, 'total_profit': 0.7576727806181209, 'position': 0}\n",
      "info 4080: {'total_reward': -66.00000000007935, 'total_profit': 0.755385289058996, 'position': 1}\n",
      "info 4140: {'total_reward': -67.00000000007925, 'total_profit': 0.7517280282708912, 'position': 0}\n",
      "final info: {'total_reward': -71.00000000007883, 'total_profit': 0.7489800164211987, 'position': 0}\n"
     ]
    },
    {
     "data": {
      "image/png": "[encoded data removed]",
      "text/plain": [
       "<Figure size 432x288 with 1 Axes>"
      ]
     },
     "metadata": {
      "needs_background": "light"
     },
     "output_type": "display_data"
    }
   ],
   "source": [
    "from gym_anytrading.envs import TradingEnv, ForexEnv, Actions, Positions \n",
    "import matplotlib.pyplot as plt\n",
    "\n",
    "# env = gym.make('forex-v0', frame_bound=(50, 100), window_size=10)\n",
    "test_df = df[df.shape[0] // 2:]\n",
    "\n",
    "# window_size = int(os.environ['WINDOW_SIZE'])\n",
    "window_size = 60\n",
    "\n",
    "test_env = gym.make('forex-v0', df=df, window_size = window_size, frame_bound=(window_size * 2, test_df.shape[0])) \n",
    "observation = test_env.reset()\n",
    "i = 0\n",
    "while True:\n",
    "    action = test_env.action_space.sample()\n",
    "    observation, reward, done, info = test_env.step(action)\n",
    "    if i % window_size == 0:\n",
    "        print(\"info {}:\".format(i), info)\n",
    "    i += 1\n",
    "    if done:\n",
    "        print(\"final info:\", info)\n",
    "        break\n",
    "\n",
    "plt.cla()\n",
    "test_env.render_all()\n",
    "plt.show()"
   ]
  },
  {
   "cell_type": "code",
   "execution_count": 27,
   "metadata": {},
   "outputs": [
    {
     "name": "stderr",
     "output_type": "stream",
     "text": [
      "/Library/Frameworks/Python.framework/Versions/3.7/lib/python3.7/site-packages/gym/logger.py:30: UserWarning: \u001b[33mWARN: Box bound precision lowered by casting to float32\u001b[0m\n",
      "  warnings.warn(colorize('%s: %s'%('WARN', msg % args), 'yellow'))\n"
     ]
    }
   ],
   "source": [
    "def my_process_data(env):\n",
    "    start = env.frame_bound[0] - env.window_size\n",
    "    end = env.frame_bound[1]\n",
    "    prices = env.df.loc[:, 'Low'].to_numpy()[start:end]\n",
    "    signal_features = env.df.loc[:, ['Close', 'Open', 'High', 'Low']].to_numpy()[start:end]\n",
    "    return prices, signal_features\n",
    "\n",
    "\n",
    "class MyForexEnv(ForexEnv):\n",
    "    _process_data = my_process_data\n",
    "\n",
    "\n",
    "env = MyForexEnv(df=FOREX_EURUSD_1H_ASK, window_size=12, frame_bound=(12, len(FOREX_EURUSD_1H_ASK)))"
   ]
  }
 ],
 "metadata": {
  "kernelspec": {
   "display_name": "Python 3",
   "language": "python",
   "name": "python3"
  },
  "language_info": {
   "codemirror_mode": {
    "name": "ipython",
    "version": 3
   },
   "file_extension": ".py",
   "mimetype": "text/x-python",
   "name": "python",
   "nbconvert_exporter": "python",
   "pygments_lexer": "ipython3",
   "version": "3.7.3"
  }
 },
 "nbformat": 4,
 "nbformat_minor": 2
}
